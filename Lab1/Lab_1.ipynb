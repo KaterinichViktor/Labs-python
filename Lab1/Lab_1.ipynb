{
 "cells": [
  {
   "cell_type": "code",
   "execution_count": 1,
   "metadata": {},
   "outputs": [
    {
     "name": "stdout",
     "output_type": "stream",
     "text": [
      "\n",
      "True\n",
      "False\n",
      "28\n",
      "12\n",
      "12345\n",
      "123456789\n"
     ]
    }
   ],
   "source": [
    "from math import sqrt\n",
    "\n",
    "\n",
    "def first_function(number):\n",
    "    if type(number) is int:\n",
    "        if number % 2 == 0:\n",
    "            return True\n",
    "        else:\n",
    "            return False\n",
    "    else:\n",
    "        return \"\"\n",
    "\n",
    "\n",
    "def second_function():\n",
    "    prime_numbers = []\n",
    "    num = 1\n",
    "    while len(prime_numbers) < 5:\n",
    "        if num > 1:\n",
    "            prime_flag = True\n",
    "            for i in range(2, int(sqrt(num)) + 1):\n",
    "                if num % i == 0:\n",
    "                    prime_flag = False\n",
    "                    break\n",
    "            if prime_flag:\n",
    "                prime_numbers.append(num)\n",
    "        num += 1\n",
    "    return sum(prime_numbers)\n",
    "\n",
    "\n",
    "def third_function(n: int):\n",
    "    if n <= 1:\n",
    "        return 1\n",
    "    return int(\"1\" * n) + third_function(n-1)\n",
    "\n",
    "\n",
    "print(first_function(''))\n",
    "print(first_function(16))\n",
    "print(first_function(9))\n",
    "\n",
    "print(second_function())\n",
    "\n",
    "print(third_function(2))\n",
    "print(third_function(5))\n",
    "print(third_function(9))\n"
   ]
  }
 ],
 "metadata": {
  "kernelspec": {
   "display_name": "venv",
   "language": "python",
   "name": "python3"
  },
  "language_info": {
   "codemirror_mode": {
    "name": "ipython",
    "version": 3
   },
   "file_extension": ".py",
   "mimetype": "text/x-python",
   "name": "python",
   "nbconvert_exporter": "python",
   "pygments_lexer": "ipython3",
   "version": "3.10.5"
  },
  "orig_nbformat": 4
 },
 "nbformat": 4,
 "nbformat_minor": 2
}
